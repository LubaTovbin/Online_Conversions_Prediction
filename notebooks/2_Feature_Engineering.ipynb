{
 "cells": [
  {
   "cell_type": "raw",
   "metadata": {
    "vscode": {
     "languageId": "raw"
    }
   },
   "source": [
    "---\n",
    "title: \"Chalice assessment: Data Preparation\"\n",
    "author: Liubov (Luba) Tovbin\n",
    "date: \"2024/11/19\"\n",
    "---"
   ]
  },
  {
   "cell_type": "markdown",
   "metadata": {},
   "source": [
    " # (Don't do this)\n",
    "\n",
    " This notebook documents an attempt to select an optimal features set manually. However, this resulted in a slightly reduced model performance using the XGBoost classifier."
   ]
  },
  {
   "cell_type": "code",
   "execution_count": 1,
   "metadata": {},
   "outputs": [],
   "source": [
    "import pandas as pd\n",
    "import seaborn as sns\n",
    "sns.set_theme(context='notebook', style='whitegrid')\n",
    "from sklearn.preprocessing import OrdinalEncoder\n",
    "from helper_functions.descriptive_statistics import descriptive_statistics\n",
    "from helper_functions.utils import calculate_contingency_sparsity, hour_of_day_group, day_of_week"
   ]
  },
  {
   "cell_type": "code",
   "execution_count": 2,
   "metadata": {},
   "outputs": [],
   "source": [
    "# Load the clean training and testing datasets\n",
    "train_data = pd.read_csv('../data/1_processed/train_data.csv')\n",
    "test_data = pd.read_csv('../data/1_processed/test.csv')"
   ]
  },
  {
   "cell_type": "markdown",
   "metadata": {},
   "source": [
    "## Feature Engineering\n",
    "\n",
    "Here, we make a deeper dive into feature analysis. We look closer at the training dataset to find the optimal feature set for conversion prediction.\n",
    "\n",
    "For our classification problem, we plan on using tree-based methods: XGBoost and Random Forest. For tree-based methods, feature independence and scaling are unnecessary, but targeted feature engineering, like grouping, encoding, or deriving new features, can still improve model performance and interpretability.\n",
    "\n",
    "First, we notice that the SITE column is problematic. Its high cardinality can lead to overfitting and lower model interpretability. We will drop the SITE column from the training set.\n",
    "\n",
    "Second, we check the contingency matrices between pairs of features. We are looking for sparse matrices. A sparse contingency matrix between two categorical features indicates that not all possible combinations of their unique values occur in the data. Combining these features will likely result in lower cardinality than their Cartesian product.\n",
    "\n",
    "Third, we create two new, more informative features out of USER_HOUR_OF_WEEK.\n",
    "\n",
    "Lastly, we encode the remaining non-numerical features. Since we are going to use tree-based methods for classification, we can use an OrdinalEncoder. Tree-based models decide splits based on thresholds rather than interpreting the encoded values as distances or magnitudes."
   ]
  },
  {
   "cell_type": "code",
   "execution_count": 3,
   "metadata": {},
   "outputs": [],
   "source": [
    "# Drop the SITE column from both, the train and the test sets\n",
    "train_data = train_data.drop(columns=['SITE'])\n",
    "test_data = test_data.drop(columns=['SITE'])"
   ]
  },
  {
   "cell_type": "code",
   "execution_count": 4,
   "metadata": {},
   "outputs": [
    {
     "data": {
      "text/plain": [
       "{('BROWSER_NAME', 'SUPPLY_VENDOR'): 59,\n",
       " ('AD_FORMAT', 'SUPPLY_VENDOR'): 57,\n",
       " ('SUPPLY_VENDOR', 'OS_FAMILY_NAME'): 36,\n",
       " ('BROWSER_NAME', 'OS_FAMILY_NAME'): 35,\n",
       " ('AD_FORMAT', 'BROWSER_NAME'): 28,\n",
       " ('AD_FORMAT', 'OS_FAMILY_NAME'): 11}"
      ]
     },
     "execution_count": 4,
     "metadata": {},
     "output_type": "execute_result"
    }
   ],
   "source": [
    "# Calculate sparsity for train_data_clean\n",
    "calculate_contingency_sparsity(train_data)"
   ]
  },
  {
   "cell_type": "markdown",
   "metadata": {},
   "source": [
    "The contingency matries between BROWSER_NAME and SUPPLY_VENDOR and between AD_FORMAT and SUPPLY_VENDOR are very sparse. About 60% of the features' combinations don't occer in the data. That means we'll benefit from combining those pairs into a single features."
   ]
  },
  {
   "cell_type": "code",
   "execution_count": 5,
   "metadata": {},
   "outputs": [],
   "source": [
    "# Create interaction features\n",
    "train_data['BROWSER_VENDOR']   = train_data['BROWSER_NAME'] + \"_\" + train_data['SUPPLY_VENDOR']\n",
    "train_data['AD_FORMAT_VENDOR'] = train_data['AD_FORMAT']    + \"_\" + train_data['SUPPLY_VENDOR']\n",
    "\n",
    "test_data['BROWSER_VENDOR']   = test_data['BROWSER_NAME'] + \"_\" + test_data['SUPPLY_VENDOR']\n",
    "test_data['AD_FORMAT_VENDOR'] = test_data['AD_FORMAT']    + \"_\" + test_data['SUPPLY_VENDOR']\n",
    "\n",
    "# Drop the initial features\n",
    "train_data = train_data.drop(columns=['BROWSER_NAME', 'SUPPLY_VENDOR', 'AD_FORMAT'])\n",
    "test_data = test_data.drop(columns=['BROWSER_NAME', 'SUPPLY_VENDOR', 'AD_FORMAT'])"
   ]
  },
  {
   "cell_type": "code",
   "execution_count": 6,
   "metadata": {},
   "outputs": [
    {
     "data": {
      "text/html": [
       "<div>\n",
       "<style scoped>\n",
       "    .dataframe tbody tr th:only-of-type {\n",
       "        vertical-align: middle;\n",
       "    }\n",
       "\n",
       "    .dataframe tbody tr th {\n",
       "        vertical-align: top;\n",
       "    }\n",
       "\n",
       "    .dataframe thead th {\n",
       "        text-align: right;\n",
       "    }\n",
       "</style>\n",
       "<table border=\"1\" class=\"dataframe\">\n",
       "  <thead>\n",
       "    <tr style=\"text-align: right;\">\n",
       "      <th></th>\n",
       "      <th>METRO</th>\n",
       "      <th>OS_FAMILY_NAME</th>\n",
       "      <th>USER_HOUR_OF_WEEK</th>\n",
       "      <th>CLASS</th>\n",
       "      <th>BROWSER_VENDOR</th>\n",
       "      <th>AD_FORMAT_VENDOR</th>\n",
       "    </tr>\n",
       "  </thead>\n",
       "  <tbody>\n",
       "    <tr>\n",
       "      <th>0</th>\n",
       "      <td>528.0</td>\n",
       "      <td>Windows</td>\n",
       "      <td>131.0</td>\n",
       "      <td>1</td>\n",
       "      <td>Chrome_google</td>\n",
       "      <td>300x50_google</td>\n",
       "    </tr>\n",
       "    <tr>\n",
       "      <th>1</th>\n",
       "      <td>501.0</td>\n",
       "      <td>Windows</td>\n",
       "      <td>59.0</td>\n",
       "      <td>1</td>\n",
       "      <td>Chrome_Xandr – Monetize SSP (AppNexus)</td>\n",
       "      <td>160x600_Xandr – Monetize SSP (AppNexus)</td>\n",
       "    </tr>\n",
       "    <tr>\n",
       "      <th>2</th>\n",
       "      <td>505.0</td>\n",
       "      <td>OS X</td>\n",
       "      <td>40.0</td>\n",
       "      <td>1</td>\n",
       "      <td>Chrome_yieldmo</td>\n",
       "      <td>640x360_yieldmo</td>\n",
       "    </tr>\n",
       "  </tbody>\n",
       "</table>\n",
       "</div>"
      ],
      "text/plain": [
       "   METRO OS_FAMILY_NAME  USER_HOUR_OF_WEEK  CLASS  \\\n",
       "0  528.0        Windows              131.0      1   \n",
       "1  501.0        Windows               59.0      1   \n",
       "2  505.0           OS X               40.0      1   \n",
       "\n",
       "                           BROWSER_VENDOR  \\\n",
       "0                           Chrome_google   \n",
       "1  Chrome_Xandr – Monetize SSP (AppNexus)   \n",
       "2                          Chrome_yieldmo   \n",
       "\n",
       "                          AD_FORMAT_VENDOR  \n",
       "0                            300x50_google  \n",
       "1  160x600_Xandr – Monetize SSP (AppNexus)  \n",
       "2                          640x360_yieldmo  "
      ]
     },
     "execution_count": 6,
     "metadata": {},
     "output_type": "execute_result"
    }
   ],
   "source": [
    "test_data[:3]"
   ]
  },
  {
   "cell_type": "markdown",
   "metadata": {},
   "source": [
    "Let's create two new features out of USER_HOUR_OF_WEEK. The new features, HOUR_OF_DAY and DAY_OF_WEEK, have smaller cardinality and are more interpretable than USER_HOUR_OF_WEEK."
   ]
  },
  {
   "cell_type": "code",
   "execution_count": 7,
   "metadata": {},
   "outputs": [],
   "source": [
    "# Create new features\n",
    "train_data['HOUR_OF_DAY'] = train_data['USER_HOUR_OF_WEEK'].apply(hour_of_day_group)\n",
    "train_data['DAY_OF_WEEK'] = train_data['USER_HOUR_OF_WEEK'].apply(day_of_week)\n",
    "\n",
    "test_data['HOUR_OF_DAY'] = test_data['USER_HOUR_OF_WEEK'].apply(hour_of_day_group)\n",
    "test_data['DAY_OF_WEEK'] = test_data['USER_HOUR_OF_WEEK'].apply(day_of_week)\n",
    "\n",
    "# Drop the initial features\n",
    "train_data = train_data.drop(columns=['USER_HOUR_OF_WEEK'])\n",
    "test_data = test_data.drop(columns=['USER_HOUR_OF_WEEK'])"
   ]
  },
  {
   "cell_type": "markdown",
   "metadata": {},
   "source": [
    "## Data Encoding\n",
    "\n",
    "Here, we encode all remaining non-numerical features including METRO.\n",
    "\n",
    "First, let's have a look at the descriptive statistics of those features. "
   ]
  },
  {
   "cell_type": "code",
   "execution_count": 8,
   "metadata": {},
   "outputs": [
    {
     "data": {
      "text/html": [
       "<div>\n",
       "<style scoped>\n",
       "    .dataframe tbody tr th:only-of-type {\n",
       "        vertical-align: middle;\n",
       "    }\n",
       "\n",
       "    .dataframe tbody tr th {\n",
       "        vertical-align: top;\n",
       "    }\n",
       "\n",
       "    .dataframe thead th {\n",
       "        text-align: right;\n",
       "    }\n",
       "</style>\n",
       "<table border=\"1\" class=\"dataframe\">\n",
       "  <thead>\n",
       "    <tr style=\"text-align: right;\">\n",
       "      <th></th>\n",
       "      <th>Column</th>\n",
       "      <th>Type</th>\n",
       "      <th>Count</th>\n",
       "      <th>Unique</th>\n",
       "      <th>Most Frequent</th>\n",
       "      <th>Counts of Most Frequent</th>\n",
       "      <th>Least Frequent</th>\n",
       "      <th>Counts of Least Frequent</th>\n",
       "      <th>Base 2 Entropy</th>\n",
       "    </tr>\n",
       "  </thead>\n",
       "  <tbody>\n",
       "    <tr>\n",
       "      <th>0</th>\n",
       "      <td>OS_FAMILY_NAME</td>\n",
       "      <td>Categorical</td>\n",
       "      <td>156138</td>\n",
       "      <td>6</td>\n",
       "      <td>Windows</td>\n",
       "      <td>74203</td>\n",
       "      <td>Other</td>\n",
       "      <td>235</td>\n",
       "      <td>1.65</td>\n",
       "    </tr>\n",
       "    <tr>\n",
       "      <th>1</th>\n",
       "      <td>BROWSER_VENDOR</td>\n",
       "      <td>Categorical</td>\n",
       "      <td>156138</td>\n",
       "      <td>328</td>\n",
       "      <td>Chrome_google</td>\n",
       "      <td>16483</td>\n",
       "      <td>Opera_adyoulike</td>\n",
       "      <td>1</td>\n",
       "      <td>5.22</td>\n",
       "    </tr>\n",
       "    <tr>\n",
       "      <th>2</th>\n",
       "      <td>AD_FORMAT_VENDOR</td>\n",
       "      <td>Categorical</td>\n",
       "      <td>156138</td>\n",
       "      <td>417</td>\n",
       "      <td>9544x9544_taboola</td>\n",
       "      <td>14382</td>\n",
       "      <td>300x250_ironsource</td>\n",
       "      <td>1</td>\n",
       "      <td>6.60</td>\n",
       "    </tr>\n",
       "    <tr>\n",
       "      <th>3</th>\n",
       "      <td>METRO</td>\n",
       "      <td>Categorical</td>\n",
       "      <td>156138</td>\n",
       "      <td>224</td>\n",
       "      <td>501.0</td>\n",
       "      <td>6997</td>\n",
       "      <td>76009.0</td>\n",
       "      <td>1</td>\n",
       "      <td>6.55</td>\n",
       "    </tr>\n",
       "  </tbody>\n",
       "</table>\n",
       "</div>"
      ],
      "text/plain": [
       "             Column         Type   Count  Unique      Most Frequent  \\\n",
       "0    OS_FAMILY_NAME  Categorical  156138       6            Windows   \n",
       "1    BROWSER_VENDOR  Categorical  156138     328      Chrome_google   \n",
       "2  AD_FORMAT_VENDOR  Categorical  156138     417  9544x9544_taboola   \n",
       "3             METRO  Categorical  156138     224              501.0   \n",
       "\n",
       "   Counts of Most Frequent      Least Frequent  Counts of Least Frequent  \\\n",
       "0                    74203               Other                       235   \n",
       "1                    16483     Opera_adyoulike                         1   \n",
       "2                    14382  300x250_ironsource                         1   \n",
       "3                     6997             76009.0                         1   \n",
       "\n",
       "   Base 2 Entropy  \n",
       "0            1.65  \n",
       "1            5.22  \n",
       "2            6.60  \n",
       "3            6.55  "
      ]
     },
     "execution_count": 8,
     "metadata": {},
     "output_type": "execute_result"
    }
   ],
   "source": [
    "descriptive_statistics(\n",
    "    train_data, \n",
    "    categorical_columns=train_data.select_dtypes('object').columns.to_list() + ['METRO']\n",
    "    )['descriptive_statistics']"
   ]
  },
  {
   "cell_type": "markdown",
   "metadata": {},
   "source": [
    "The BROWSER_VENDOR and AD_FORMAT_VENDOR have a relatively high number of unique values, but still a good candidates for ordinal encoding considering our use of tree-based methods.\n",
    "\n",
    "The METRO feature is naturally encoded."
   ]
  },
  {
   "cell_type": "code",
   "execution_count": 9,
   "metadata": {},
   "outputs": [],
   "source": [
    "# Columns to encode\n",
    "columns_to_encode = ['OS_FAMILY_NAME', 'BROWSER_VENDOR', 'AD_FORMAT_VENDOR']\n",
    "\n",
    "# Initialize the OrdinalEncoder with handling for unknown categories\n",
    "ordinal_encoder = OrdinalEncoder(handle_unknown='use_encoded_value', unknown_value=-1)\n",
    "\n",
    "# Fit the encoder on the training data\n",
    "ordinal_encoder.fit(train_data[columns_to_encode])\n",
    "\n",
    "# Transform both training and test data\n",
    "train_data_encoded = train_data.copy()\n",
    "test_data_encoded = test_data.copy()\n",
    "\n",
    "train_data_encoded[columns_to_encode] = ordinal_encoder.transform(train_data[columns_to_encode])\n",
    "test_data_encoded[columns_to_encode] = ordinal_encoder.transform(test_data[columns_to_encode])\n"
   ]
  },
  {
   "cell_type": "code",
   "execution_count": 10,
   "metadata": {},
   "outputs": [
    {
     "data": {
      "text/html": [
       "<div>\n",
       "<style scoped>\n",
       "    .dataframe tbody tr th:only-of-type {\n",
       "        vertical-align: middle;\n",
       "    }\n",
       "\n",
       "    .dataframe tbody tr th {\n",
       "        vertical-align: top;\n",
       "    }\n",
       "\n",
       "    .dataframe thead th {\n",
       "        text-align: right;\n",
       "    }\n",
       "</style>\n",
       "<table border=\"1\" class=\"dataframe\">\n",
       "  <thead>\n",
       "    <tr style=\"text-align: right;\">\n",
       "      <th></th>\n",
       "      <th>METRO</th>\n",
       "      <th>OS_FAMILY_NAME</th>\n",
       "      <th>CLASS</th>\n",
       "      <th>BROWSER_VENDOR</th>\n",
       "      <th>AD_FORMAT_VENDOR</th>\n",
       "      <th>HOUR_OF_DAY</th>\n",
       "      <th>DAY_OF_WEEK</th>\n",
       "    </tr>\n",
       "  </thead>\n",
       "  <tbody>\n",
       "    <tr>\n",
       "      <th>0</th>\n",
       "      <td>528.0</td>\n",
       "      <td>4.0</td>\n",
       "      <td>1</td>\n",
       "      <td>39.0</td>\n",
       "      <td>122.0</td>\n",
       "      <td>2</td>\n",
       "      <td>5.0</td>\n",
       "    </tr>\n",
       "    <tr>\n",
       "      <th>1</th>\n",
       "      <td>501.0</td>\n",
       "      <td>4.0</td>\n",
       "      <td>1</td>\n",
       "      <td>24.0</td>\n",
       "      <td>16.0</td>\n",
       "      <td>2</td>\n",
       "      <td>2.0</td>\n",
       "    </tr>\n",
       "    <tr>\n",
       "      <th>2</th>\n",
       "      <td>505.0</td>\n",
       "      <td>2.0</td>\n",
       "      <td>1</td>\n",
       "      <td>68.0</td>\n",
       "      <td>336.0</td>\n",
       "      <td>3</td>\n",
       "      <td>1.0</td>\n",
       "    </tr>\n",
       "  </tbody>\n",
       "</table>\n",
       "</div>"
      ],
      "text/plain": [
       "   METRO  OS_FAMILY_NAME  CLASS  BROWSER_VENDOR  AD_FORMAT_VENDOR  \\\n",
       "0  528.0             4.0      1            39.0             122.0   \n",
       "1  501.0             4.0      1            24.0              16.0   \n",
       "2  505.0             2.0      1            68.0             336.0   \n",
       "\n",
       "   HOUR_OF_DAY  DAY_OF_WEEK  \n",
       "0            2          5.0  \n",
       "1            2          2.0  \n",
       "2            3          1.0  "
      ]
     },
     "execution_count": 10,
     "metadata": {},
     "output_type": "execute_result"
    }
   ],
   "source": [
    "test_data_encoded[:3]"
   ]
  },
  {
   "cell_type": "code",
   "execution_count": 11,
   "metadata": {},
   "outputs": [],
   "source": [
    "# Save the encoded data sets\n",
    "train_data_encoded.to_csv('../data/1_processed/train_data_engineered.csv', index=False)\n",
    "test_data_encoded.to_csv('../data/1_processed/test_data_engineered.csv', index=False)"
   ]
  }
 ],
 "metadata": {
  "kernelspec": {
   "display_name": "test_env",
   "language": "python",
   "name": "python3"
  },
  "language_info": {
   "codemirror_mode": {
    "name": "ipython",
    "version": 3
   },
   "file_extension": ".py",
   "mimetype": "text/x-python",
   "name": "python",
   "nbconvert_exporter": "python",
   "pygments_lexer": "ipython3",
   "version": "3.13.0"
  }
 },
 "nbformat": 4,
 "nbformat_minor": 2
}
